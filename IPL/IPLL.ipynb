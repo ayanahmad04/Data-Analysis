{
 "cells": [
  {
   "cell_type": "code",
   "execution_count": 2,
   "id": "e8ab31c2-c81b-4327-993c-c5815969eb4b",
   "metadata": {},
   "outputs": [
    {
     "data": {
      "text/html": [
       "<div>\n",
       "<style scoped>\n",
       "    .dataframe tbody tr th:only-of-type {\n",
       "        vertical-align: middle;\n",
       "    }\n",
       "\n",
       "    .dataframe tbody tr th {\n",
       "        vertical-align: top;\n",
       "    }\n",
       "\n",
       "    .dataframe thead th {\n",
       "        text-align: right;\n",
       "    }\n",
       "</style>\n",
       "<table border=\"1\" class=\"dataframe\">\n",
       "  <thead>\n",
       "    <tr style=\"text-align: right;\">\n",
       "      <th></th>\n",
       "      <th>match_id</th>\n",
       "      <th>inning</th>\n",
       "      <th>batting_team</th>\n",
       "      <th>bowling_team</th>\n",
       "      <th>over</th>\n",
       "      <th>ball</th>\n",
       "      <th>batter</th>\n",
       "      <th>bowler</th>\n",
       "      <th>non_striker</th>\n",
       "      <th>batsman_runs</th>\n",
       "      <th>extra_runs</th>\n",
       "      <th>total_runs</th>\n",
       "      <th>extras_type</th>\n",
       "      <th>is_wicket</th>\n",
       "      <th>player_dismissed</th>\n",
       "      <th>dismissal_kind</th>\n",
       "      <th>fielder</th>\n",
       "    </tr>\n",
       "  </thead>\n",
       "  <tbody>\n",
       "    <tr>\n",
       "      <th>0</th>\n",
       "      <td>335982</td>\n",
       "      <td>1</td>\n",
       "      <td>Kolkata Knight Riders</td>\n",
       "      <td>Royal Challengers Bangalore</td>\n",
       "      <td>0</td>\n",
       "      <td>1</td>\n",
       "      <td>SC Ganguly</td>\n",
       "      <td>P Kumar</td>\n",
       "      <td>BB McCullum</td>\n",
       "      <td>0</td>\n",
       "      <td>1</td>\n",
       "      <td>1</td>\n",
       "      <td>legbyes</td>\n",
       "      <td>0</td>\n",
       "      <td>NaN</td>\n",
       "      <td>NaN</td>\n",
       "      <td>NaN</td>\n",
       "    </tr>\n",
       "    <tr>\n",
       "      <th>1</th>\n",
       "      <td>335982</td>\n",
       "      <td>1</td>\n",
       "      <td>Kolkata Knight Riders</td>\n",
       "      <td>Royal Challengers Bangalore</td>\n",
       "      <td>0</td>\n",
       "      <td>2</td>\n",
       "      <td>BB McCullum</td>\n",
       "      <td>P Kumar</td>\n",
       "      <td>SC Ganguly</td>\n",
       "      <td>0</td>\n",
       "      <td>0</td>\n",
       "      <td>0</td>\n",
       "      <td>NaN</td>\n",
       "      <td>0</td>\n",
       "      <td>NaN</td>\n",
       "      <td>NaN</td>\n",
       "      <td>NaN</td>\n",
       "    </tr>\n",
       "    <tr>\n",
       "      <th>2</th>\n",
       "      <td>335982</td>\n",
       "      <td>1</td>\n",
       "      <td>Kolkata Knight Riders</td>\n",
       "      <td>Royal Challengers Bangalore</td>\n",
       "      <td>0</td>\n",
       "      <td>3</td>\n",
       "      <td>BB McCullum</td>\n",
       "      <td>P Kumar</td>\n",
       "      <td>SC Ganguly</td>\n",
       "      <td>0</td>\n",
       "      <td>1</td>\n",
       "      <td>1</td>\n",
       "      <td>wides</td>\n",
       "      <td>0</td>\n",
       "      <td>NaN</td>\n",
       "      <td>NaN</td>\n",
       "      <td>NaN</td>\n",
       "    </tr>\n",
       "    <tr>\n",
       "      <th>3</th>\n",
       "      <td>335982</td>\n",
       "      <td>1</td>\n",
       "      <td>Kolkata Knight Riders</td>\n",
       "      <td>Royal Challengers Bangalore</td>\n",
       "      <td>0</td>\n",
       "      <td>4</td>\n",
       "      <td>BB McCullum</td>\n",
       "      <td>P Kumar</td>\n",
       "      <td>SC Ganguly</td>\n",
       "      <td>0</td>\n",
       "      <td>0</td>\n",
       "      <td>0</td>\n",
       "      <td>NaN</td>\n",
       "      <td>0</td>\n",
       "      <td>NaN</td>\n",
       "      <td>NaN</td>\n",
       "      <td>NaN</td>\n",
       "    </tr>\n",
       "    <tr>\n",
       "      <th>4</th>\n",
       "      <td>335982</td>\n",
       "      <td>1</td>\n",
       "      <td>Kolkata Knight Riders</td>\n",
       "      <td>Royal Challengers Bangalore</td>\n",
       "      <td>0</td>\n",
       "      <td>5</td>\n",
       "      <td>BB McCullum</td>\n",
       "      <td>P Kumar</td>\n",
       "      <td>SC Ganguly</td>\n",
       "      <td>0</td>\n",
       "      <td>0</td>\n",
       "      <td>0</td>\n",
       "      <td>NaN</td>\n",
       "      <td>0</td>\n",
       "      <td>NaN</td>\n",
       "      <td>NaN</td>\n",
       "      <td>NaN</td>\n",
       "    </tr>\n",
       "  </tbody>\n",
       "</table>\n",
       "</div>"
      ],
      "text/plain": [
       "   match_id  inning           batting_team                 bowling_team  over  \\\n",
       "0    335982       1  Kolkata Knight Riders  Royal Challengers Bangalore     0   \n",
       "1    335982       1  Kolkata Knight Riders  Royal Challengers Bangalore     0   \n",
       "2    335982       1  Kolkata Knight Riders  Royal Challengers Bangalore     0   \n",
       "3    335982       1  Kolkata Knight Riders  Royal Challengers Bangalore     0   \n",
       "4    335982       1  Kolkata Knight Riders  Royal Challengers Bangalore     0   \n",
       "\n",
       "   ball       batter   bowler  non_striker  batsman_runs  extra_runs  \\\n",
       "0     1   SC Ganguly  P Kumar  BB McCullum             0           1   \n",
       "1     2  BB McCullum  P Kumar   SC Ganguly             0           0   \n",
       "2     3  BB McCullum  P Kumar   SC Ganguly             0           1   \n",
       "3     4  BB McCullum  P Kumar   SC Ganguly             0           0   \n",
       "4     5  BB McCullum  P Kumar   SC Ganguly             0           0   \n",
       "\n",
       "   total_runs extras_type  is_wicket player_dismissed dismissal_kind fielder  \n",
       "0           1     legbyes          0              NaN            NaN     NaN  \n",
       "1           0         NaN          0              NaN            NaN     NaN  \n",
       "2           1       wides          0              NaN            NaN     NaN  \n",
       "3           0         NaN          0              NaN            NaN     NaN  \n",
       "4           0         NaN          0              NaN            NaN     NaN  "
      ]
     },
     "execution_count": 2,
     "metadata": {},
     "output_type": "execute_result"
    }
   ],
   "source": [
    "import pandas as pd \n",
    "data = pd.read_csv('deliveries.csv')\n",
    "data.head()"
   ]
  },
  {
   "cell_type": "code",
   "execution_count": 17,
   "id": "df2027d5-3b6e-4f15-b0c0-7bb64730181e",
   "metadata": {},
   "outputs": [
    {
     "data": {
      "text/plain": [
       "match_id                 0\n",
       "inning                   0\n",
       "batting_team             0\n",
       "bowling_team             0\n",
       "over                     0\n",
       "ball                     0\n",
       "batter                   0\n",
       "bowler                   0\n",
       "non_striker              0\n",
       "batsman_runs             0\n",
       "extra_runs               0\n",
       "total_runs               0\n",
       "extras_type         246795\n",
       "is_wicket                0\n",
       "player_dismissed    247970\n",
       "dismissal_kind      247970\n",
       "fielder             251566\n",
       "dtype: int64"
      ]
     },
     "execution_count": 17,
     "metadata": {},
     "output_type": "execute_result"
    }
   ],
   "source": [
    "data.isna().sum()"
   ]
  },
  {
   "cell_type": "code",
   "execution_count": 18,
   "id": "3c199bd2-3ca9-43f2-9415-e8a30f17880e",
   "metadata": {},
   "outputs": [
    {
     "name": "stdout",
     "output_type": "stream",
     "text": [
      "<class 'pandas.core.frame.DataFrame'>\n",
      "RangeIndex: 260920 entries, 0 to 260919\n",
      "Data columns (total 17 columns):\n",
      " #   Column            Non-Null Count   Dtype \n",
      "---  ------            --------------   ----- \n",
      " 0   match_id          260920 non-null  int64 \n",
      " 1   inning            260920 non-null  int64 \n",
      " 2   batting_team      260920 non-null  object\n",
      " 3   bowling_team      260920 non-null  object\n",
      " 4   over              260920 non-null  int64 \n",
      " 5   ball              260920 non-null  int64 \n",
      " 6   batter            260920 non-null  object\n",
      " 7   bowler            260920 non-null  object\n",
      " 8   non_striker       260920 non-null  object\n",
      " 9   batsman_runs      260920 non-null  int64 \n",
      " 10  extra_runs        260920 non-null  int64 \n",
      " 11  total_runs        260920 non-null  int64 \n",
      " 12  extras_type       14125 non-null   object\n",
      " 13  is_wicket         260920 non-null  int64 \n",
      " 14  player_dismissed  12950 non-null   object\n",
      " 15  dismissal_kind    12950 non-null   object\n",
      " 16  fielder           9354 non-null    object\n",
      "dtypes: int64(8), object(9)\n",
      "memory usage: 33.8+ MB\n"
     ]
    },
    {
     "data": {
      "text/plain": [
       "Index(['match_id', 'inning', 'batting_team', 'bowling_team', 'over', 'ball',\n",
       "       'batter', 'bowler', 'non_striker', 'batsman_runs', 'extra_runs',\n",
       "       'total_runs', 'extras_type', 'is_wicket', 'player_dismissed',\n",
       "       'dismissal_kind', 'fielder'],\n",
       "      dtype='object')"
      ]
     },
     "execution_count": 18,
     "metadata": {},
     "output_type": "execute_result"
    }
   ],
   "source": [
    "data.info()\n",
    "data.columns"
   ]
  },
  {
   "cell_type": "code",
   "execution_count": 19,
   "id": "bae178e2-6cc5-4770-aaf3-4f1a68cd7ed2",
   "metadata": {},
   "outputs": [
    {
     "data": {
      "text/plain": [
       "Index(['match_id', 'inning', 'batting_team', 'bowling_team', 'over', 'ball',\n",
       "       'batter', 'bowler', 'non_striker', 'batsman_runs', 'extra_runs',\n",
       "       'total_runs', 'extras_type', 'is_wicket', 'player_dismissed',\n",
       "       'dismissal_kind', 'fielder'],\n",
       "      dtype='object')"
      ]
     },
     "execution_count": 19,
     "metadata": {},
     "output_type": "execute_result"
    }
   ],
   "source": [
    "data.columns"
   ]
  },
  {
   "cell_type": "code",
   "execution_count": 20,
   "id": "cce4a35b-7667-4fc2-89d5-c0dfb6a1de4e",
   "metadata": {},
   "outputs": [
    {
     "data": {
      "text/plain": [
       "0"
      ]
     },
     "execution_count": 20,
     "metadata": {},
     "output_type": "execute_result"
    }
   ],
   "source": [
    "data.duplicated().sum()"
   ]
  },
  {
   "cell_type": "code",
   "execution_count": 21,
   "id": "b5a07355-d55b-4b7a-9cd5-22603b46826e",
   "metadata": {},
   "outputs": [
    {
     "data": {
      "text/html": [
       "<div>\n",
       "<style scoped>\n",
       "    .dataframe tbody tr th:only-of-type {\n",
       "        vertical-align: middle;\n",
       "    }\n",
       "\n",
       "    .dataframe tbody tr th {\n",
       "        vertical-align: top;\n",
       "    }\n",
       "\n",
       "    .dataframe thead th {\n",
       "        text-align: right;\n",
       "    }\n",
       "</style>\n",
       "<table border=\"1\" class=\"dataframe\">\n",
       "  <thead>\n",
       "    <tr style=\"text-align: right;\">\n",
       "      <th></th>\n",
       "      <th>match_id</th>\n",
       "      <th>inning</th>\n",
       "      <th>over</th>\n",
       "      <th>ball</th>\n",
       "      <th>batsman_runs</th>\n",
       "      <th>extra_runs</th>\n",
       "      <th>total_runs</th>\n",
       "      <th>is_wicket</th>\n",
       "    </tr>\n",
       "  </thead>\n",
       "  <tbody>\n",
       "    <tr>\n",
       "      <th>count</th>\n",
       "      <td>2.609200e+05</td>\n",
       "      <td>260920.000000</td>\n",
       "      <td>260920.000000</td>\n",
       "      <td>260920.000000</td>\n",
       "      <td>260920.000000</td>\n",
       "      <td>260920.000000</td>\n",
       "      <td>260920.000000</td>\n",
       "      <td>260920.000000</td>\n",
       "    </tr>\n",
       "    <tr>\n",
       "      <th>mean</th>\n",
       "      <td>9.070665e+05</td>\n",
       "      <td>1.483531</td>\n",
       "      <td>9.197677</td>\n",
       "      <td>3.624486</td>\n",
       "      <td>1.265001</td>\n",
       "      <td>0.067806</td>\n",
       "      <td>1.332807</td>\n",
       "      <td>0.049632</td>\n",
       "    </tr>\n",
       "    <tr>\n",
       "      <th>std</th>\n",
       "      <td>3.679913e+05</td>\n",
       "      <td>0.502643</td>\n",
       "      <td>5.683484</td>\n",
       "      <td>1.814920</td>\n",
       "      <td>1.639298</td>\n",
       "      <td>0.343265</td>\n",
       "      <td>1.626416</td>\n",
       "      <td>0.217184</td>\n",
       "    </tr>\n",
       "    <tr>\n",
       "      <th>min</th>\n",
       "      <td>3.359820e+05</td>\n",
       "      <td>1.000000</td>\n",
       "      <td>0.000000</td>\n",
       "      <td>1.000000</td>\n",
       "      <td>0.000000</td>\n",
       "      <td>0.000000</td>\n",
       "      <td>0.000000</td>\n",
       "      <td>0.000000</td>\n",
       "    </tr>\n",
       "    <tr>\n",
       "      <th>25%</th>\n",
       "      <td>5.483340e+05</td>\n",
       "      <td>1.000000</td>\n",
       "      <td>4.000000</td>\n",
       "      <td>2.000000</td>\n",
       "      <td>0.000000</td>\n",
       "      <td>0.000000</td>\n",
       "      <td>0.000000</td>\n",
       "      <td>0.000000</td>\n",
       "    </tr>\n",
       "    <tr>\n",
       "      <th>50%</th>\n",
       "      <td>9.809670e+05</td>\n",
       "      <td>1.000000</td>\n",
       "      <td>9.000000</td>\n",
       "      <td>4.000000</td>\n",
       "      <td>1.000000</td>\n",
       "      <td>0.000000</td>\n",
       "      <td>1.000000</td>\n",
       "      <td>0.000000</td>\n",
       "    </tr>\n",
       "    <tr>\n",
       "      <th>75%</th>\n",
       "      <td>1.254066e+06</td>\n",
       "      <td>2.000000</td>\n",
       "      <td>14.000000</td>\n",
       "      <td>5.000000</td>\n",
       "      <td>1.000000</td>\n",
       "      <td>0.000000</td>\n",
       "      <td>1.000000</td>\n",
       "      <td>0.000000</td>\n",
       "    </tr>\n",
       "    <tr>\n",
       "      <th>max</th>\n",
       "      <td>1.426312e+06</td>\n",
       "      <td>6.000000</td>\n",
       "      <td>19.000000</td>\n",
       "      <td>11.000000</td>\n",
       "      <td>6.000000</td>\n",
       "      <td>7.000000</td>\n",
       "      <td>7.000000</td>\n",
       "      <td>1.000000</td>\n",
       "    </tr>\n",
       "  </tbody>\n",
       "</table>\n",
       "</div>"
      ],
      "text/plain": [
       "           match_id         inning           over           ball  \\\n",
       "count  2.609200e+05  260920.000000  260920.000000  260920.000000   \n",
       "mean   9.070665e+05       1.483531       9.197677       3.624486   \n",
       "std    3.679913e+05       0.502643       5.683484       1.814920   \n",
       "min    3.359820e+05       1.000000       0.000000       1.000000   \n",
       "25%    5.483340e+05       1.000000       4.000000       2.000000   \n",
       "50%    9.809670e+05       1.000000       9.000000       4.000000   \n",
       "75%    1.254066e+06       2.000000      14.000000       5.000000   \n",
       "max    1.426312e+06       6.000000      19.000000      11.000000   \n",
       "\n",
       "        batsman_runs     extra_runs     total_runs      is_wicket  \n",
       "count  260920.000000  260920.000000  260920.000000  260920.000000  \n",
       "mean        1.265001       0.067806       1.332807       0.049632  \n",
       "std         1.639298       0.343265       1.626416       0.217184  \n",
       "min         0.000000       0.000000       0.000000       0.000000  \n",
       "25%         0.000000       0.000000       0.000000       0.000000  \n",
       "50%         1.000000       0.000000       1.000000       0.000000  \n",
       "75%         1.000000       0.000000       1.000000       0.000000  \n",
       "max         6.000000       7.000000       7.000000       1.000000  "
      ]
     },
     "execution_count": 21,
     "metadata": {},
     "output_type": "execute_result"
    }
   ],
   "source": [
    "data.describe()"
   ]
  },
  {
   "cell_type": "markdown",
   "id": "91781aa9-6143-4ad9-b062-0fdb0de7de41",
   "metadata": {},
   "source": [
    "1) Who is the top run scorer?"
   ]
  },
  {
   "cell_type": "code",
   "execution_count": 22,
   "id": "38cdff3f-5711-4363-914f-218ad5aba4d3",
   "metadata": {},
   "outputs": [
    {
     "name": "stdout",
     "output_type": "stream",
     "text": [
      "The top-scorer is V Kohli with 8014 runs in 244 innings.\n"
     ]
    }
   ],
   "source": [
    "batsman_list=data['batter'].unique().tolist()\n",
    "\n",
    "def batsman_runs(data,batsman_list):\n",
    "    batsman_dict={}\n",
    "    for batsman in batsman_list:\n",
    "        x=[]\n",
    "        total_runs=data[data['batter']==batsman]['batsman_runs'].sum()\n",
    "        x.append(total_runs)\n",
    "        x.append(len(data[data['batter']==batsman]['match_id'].unique()))\n",
    "        batsman_dict[batsman] = x\n",
    "    return batsman_dict\n",
    "batsman_dict=batsman_runs(data,batsman_list)\n",
    "top_scorer = max(batsman_dict,key=batsman_dict.get)\n",
    "print(f'The top-scorer is {top_scorer} with {batsman_dict[top_scorer][0]} runs in {batsman_dict[top_scorer][1]} innings.')"
   ]
  },
  {
   "cell_type": "code",
   "execution_count": 23,
   "id": "f8d4d91e-edce-4a2f-a5f8-243a3ec273d0",
   "metadata": {},
   "outputs": [
    {
     "name": "stdout",
     "output_type": "stream",
     "text": [
      "The Top Scorer are :\n",
      "   1) V Kohli has scored 8014 runs in 244 innings.\n",
      "   2) S Dhawan has scored 6769 runs in 221 innings.\n",
      "   3) RG Sharma has scored 6630 runs in 251 innings.\n",
      "   4) DA Warner has scored 6567 runs in 184 innings.\n",
      "   5) SK Raina has scored 5536 runs in 200 innings.\n"
     ]
    },
    {
     "name": "stderr",
     "output_type": "stream",
     "text": [
      "C:\\Users\\tak\\AppData\\Local\\Temp\\ipykernel_15872\\4278328439.py:20: FutureWarning: \n",
      "\n",
      "Passing `palette` without assigning `hue` is deprecated and will be removed in v0.14.0. Assign the `x` variable to `hue` and set `legend=False` for the same effect.\n",
      "\n",
      "  sns.barplot(data=b, x='Batsman', y='Runs', palette='viridis')\n"
     ]
    },
    {
     "data": {
      "text/plain": [
       "Text(0.5, 1.0, 'Top Batsmen by Runs')"
      ]
     },
     "execution_count": 23,
     "metadata": {},
     "output_type": "execute_result"
    },
    {
     "data": {
      "image/png": "[encoded data removed]",
      "text/plain": [
       "<Figure size 800x500 with 1 Axes>"
      ]
     },
     "metadata": {},
     "output_type": "display_data"
    }
   ],
   "source": [
    "\n",
    "import seaborn as sns\n",
    "import matplotlib.pyplot as plt\n",
    "sorted_batsman_dict = dict(sorted(batsman_dict.items(), key=lambda item: item[1][0], reverse=True))\n",
    "sorted_batsman_dict\n",
    "sorted_list=list(sorted_batsman_dict)\n",
    "z=[]\n",
    "for index,x in enumerate(sorted_list[0:5]):\n",
    "    z.append(f'{index+1}) {x} has scored {sorted_batsman_dict[x][0]} runs in {sorted_batsman_dict[x][1]} innings.')\n",
    "print('The Top Scorer are :')\n",
    "for a in z:\n",
    "    print(f'   {a}')\n",
    "a=list(sorted_batsman_dict.items())\n",
    "new=[]\n",
    "for i in a :\n",
    "    x=(i[0], i[1][0] , i[1][1])\n",
    "    new.append(x)\n",
    "b= pd.DataFrame(new[0:5],columns =['Batsman', 'Runs','Innings'])\n",
    "b\n",
    "plt.figure(figsize=(8, 5))\n",
    "sns.barplot(data=b, x='Batsman', y='Runs', palette='viridis')\n",
    "plt.title('Top Batsmen by Runs')"
   ]
  },
  {
   "cell_type": "markdown",
   "id": "be0c78a4-eb75-4cca-87fe-6b4728a08c56",
   "metadata": {},
   "source": [
    "2) Who are the top wicket-takers?"
   ]
  },
  {
   "cell_type": "code",
   "execution_count": 24,
   "id": "3909b946-8f65-4820-b6ef-393b95aeb813",
   "metadata": {
    "scrolled": true
   },
   "outputs": [
    {
     "name": "stdout",
     "output_type": "stream",
     "text": [
      "The top wicket-taker is YS Chahal with 205 wickets in 159 innings.\n"
     ]
    }
   ],
   "source": [
    "bowlers_list = data['bowler'].unique().tolist()\n",
    "valid_kinds = ['caught', 'bowled', 'lbw', 'stumped', 'caught and bowled']\n",
    "def bowler_wickets(data, bowlers_list):\n",
    "    bowlers_dict = {}\n",
    "    for bowler in bowlers_list:\n",
    "        x=[]\n",
    "        wickets = data[(data['bowler'] == bowler) & \n",
    "                      (data['dismissal_kind'].isin(valid_kinds))]\n",
    "        total_wickets = len(wickets)\n",
    "        x.append(total_wickets)\n",
    "        x.append(len(data[data['bowler']==bowler]['match_id'].unique()))\n",
    "        bowlers_dict[bowler] = x\n",
    "    return bowlers_dict\n",
    "bowler_dict = bowler_wickets(data, bowlers_list)\n",
    "top_wicket_taker = max(bowler_dict, key=bowler_dict.get)\n",
    "print(f\"The top wicket-taker is {top_wicket_taker} with {bowler_dict[top_wicket_taker][0]} wickets in {bowler_dict[top_wicket_taker][1]} innings.\")"
   ]
  },
  {
   "cell_type": "code",
   "execution_count": 25,
   "id": "b81a7071-9b73-4e6b-b53b-d70db35fe4d2",
   "metadata": {},
   "outputs": [
    {
     "name": "stdout",
     "output_type": "stream",
     "text": [
      "The Top Scorer are :\n",
      "   1) YS Chahal has taken 205 wickets in 159 innings.\n",
      "   2) PP Chawla has taken 192 wickets in 191 innings.\n",
      "   3) DJ Bravo has taken 183 wickets in 158 innings.\n",
      "   4) B Kumar has taken 181 wickets in 176 innings.\n",
      "   5) R Ashwin has taken 180 wickets in 208 innings.\n"
     ]
    },
    {
     "name": "stderr",
     "output_type": "stream",
     "text": [
      "C:\\Users\\tak\\AppData\\Local\\Temp\\ipykernel_15872\\3592669311.py:18: FutureWarning: \n",
      "\n",
      "Passing `palette` without assigning `hue` is deprecated and will be removed in v0.14.0. Assign the `x` variable to `hue` and set `legend=False` for the same effect.\n",
      "\n",
      "  sns.barplot(data=b, x='Bowler', y='Wickets', palette='viridis')\n"
     ]
    },
    {
     "data": {
      "text/plain": [
       "Text(0.5, 1.0, 'Top Bowlers by Wickets')"
      ]
     },
     "execution_count": 25,
     "metadata": {},
     "output_type": "execute_result"
    },
    {
     "data": {
      "image/png": "[encoded data removed]",
      "text/plain": [
       "<Figure size 800x500 with 1 Axes>"
      ]
     },
     "metadata": {},
     "output_type": "display_data"
    }
   ],
   "source": [
    "import seaborn as sns\n",
    "import matplotlib.pyplot as plt\n",
    "sorted_bowlers_dict = dict(sorted(bowler_dict.items(), key=lambda item: item[1][0], reverse=True))\n",
    "sorted_bowlers_list=list(sorted_bowlers_dict)\n",
    "z=[]\n",
    "for index,x in enumerate(sorted_bowlers_list[0:5]):\n",
    "    z.append(f'{index+1}) {x} has taken {sorted_bowlers_dict[x][0]} wickets in {sorted_bowlers_dict[x][1]} innings.')\n",
    "print('The Top Scorer are :')\n",
    "for a in z:\n",
    "    print(f'   {a}')\n",
    "a = list(sorted_bowlers_dict.items())\n",
    "new=[]\n",
    "for i in a :\n",
    "    x=(i[0], i[1][0] , i[1][1])\n",
    "    new.append(x)\n",
    "b= pd.DataFrame(new[0:5],columns =['Bowler', 'Wickets','Innings'])\n",
    "plt.figure(figsize=(8, 5))\n",
    "sns.barplot(data=b, x='Bowler', y='Wickets', palette='viridis')\n",
    "plt.title('Top Bowlers by Wickets')\n"
   ]
  },
  {
   "cell_type": "markdown",
   "id": "b8ed37ef-bd3e-4922-87d2-bc3938ae6f77",
   "metadata": {},
   "source": [
    "3) How many matches are in the dataset?"
   ]
  },
  {
   "cell_type": "code",
   "execution_count": 26,
   "id": "5af2a412-5d1b-403a-8cc9-2fdba9ce1101",
   "metadata": {},
   "outputs": [
    {
     "name": "stdout",
     "output_type": "stream",
     "text": [
      "There are 1095 matches in the dataset.\n"
     ]
    }
   ],
   "source": [
    "\n",
    "matches=data['match_id'].unique().tolist()\n",
    "total_matches=len(matches)\n",
    "print(f'There are {total_matches} matches in the dataset.')\n"
   ]
  },
  {
   "cell_type": "markdown",
   "id": "20b5e1d2-a10d-482a-b265-2f2ac8fc87e7",
   "metadata": {},
   "source": [
    "4) Which batters hit the most boundaries (4s and 6s)?"
   ]
  },
  {
   "cell_type": "code",
   "execution_count": 27,
   "id": "3caf2cdd-8a11-425d-ae32-85ac2cdff351",
   "metadata": {},
   "outputs": [
    {
     "name": "stdout",
     "output_type": "stream",
     "text": [
      "batter\n",
      "S Dhawan     768\n",
      "V Kohli      708\n",
      "DA Warner    663\n",
      "RG Sharma    599\n",
      "SK Raina     506\n",
      "Name: count, dtype: int64\n",
      "CH Gayle has hit 359 sixes in 141 ininngs.\n",
      "RG Sharma has hit 281 sixes in 251 ininngs.\n",
      "V Kohli has hit 273 sixes in 244 ininngs.\n",
      "AB de Villiers has hit 253 sixes in 170 ininngs.\n",
      "MS Dhoni has hit 252 sixes in 228 ininngs.\n",
      "S Dhawan has hit 768 fours in 221 ininngs.\n",
      "V Kohli has hit 708 fours in 244 ininngs.\n",
      "DA Warner has hit 663 fours in 184 ininngs.\n",
      "RG Sharma has hit 599 fours in 251 ininngs.\n",
      "SK Raina has hit 506 fours in 200 ininngs.\n"
     ]
    },
    {
     "data": {
      "text/plain": [
       "{'S Dhawan': [768, 221],\n",
       " 'V Kohli': [708, 244],\n",
       " 'DA Warner': [663, 184],\n",
       " 'RG Sharma': [599, 251],\n",
       " 'SK Raina': [506, 200]}"
      ]
     },
     "execution_count": 27,
     "metadata": {},
     "output_type": "execute_result"
    },
    {
     "data": {
      "image/png": "[encoded data removed]",
      "text/plain": [
       "<Figure size 1200x500 with 2 Axes>"
      ]
     },
     "metadata": {},
     "output_type": "display_data"
    }
   ],
   "source": [
    "import matplotlib.pyplot as plt\n",
    "plt.figure(figsize=(12, 5))\n",
    "data['batsman_runs'].value_counts()\n",
    "plt.subplot(1,2,1)\n",
    "data[data['batsman_runs']==6]['batter'].value_counts()[0:5].plot.bar()\n",
    "plt.title('6s count.')\n",
    "plt.xticks(rotation=0)\n",
    "# a=data[data['batsman_runs']==6]['batter'].value_counts()[0:5]\n",
    "plt.subplot(1,2,2)\n",
    "data[data['batsman_runs']==4]['batter'].value_counts()[0:5].plot.bar()\n",
    "plt.title('4s count.')\n",
    "plt.xticks(rotation=0)\n",
    "print(data[data['batsman_runs']==4]['batter'].value_counts()[0:5])\n",
    "players_dict1=dict(data[data['batsman_runs']==4]['batter'].value_counts()[0:5])\n",
    "players_dict2=dict(data[data['batsman_runs']==6]['batter'].value_counts()[0:5])\n",
    "df1=pd.DataFrame(players_dict1.items(),columns=['batsman','4s Count'])\n",
    "df2=pd.DataFrame(players_dict2.items(),columns=['batsman','6s Count'])\n",
    "for batsman,runs in players_dict1.items():\n",
    "    x=[]\n",
    "    x.append(runs)\n",
    "    x.append(len(data[data['batter']==batsman]['match_id'].unique()))\n",
    "    players_dict1[batsman] = x\n",
    "for batsman,runs in players_dict2.items():\n",
    "    x=[]\n",
    "    x.append(runs)\n",
    "    x.append(len(data[data['batter']==batsman]['match_id'].unique()))\n",
    "    players_dict2[batsman] = x\n",
    "for batsman,stats in players_dict2.items():\n",
    "    print(f'{batsman} has hit {stats[0]} sixes in {stats[1]} ininngs.')    \n",
    "for batsman,stats in players_dict1.items():\n",
    "    ininngs=len(data[data['batter']==batsman]['match_id'].unique())\n",
    "    print(f'{batsman} has hit {stats[0]} fours in {stats[1]} ininngs.')\n",
    "players_dict1\n",
    "# plt.bar()"
   ]
  },
  {
   "cell_type": "markdown",
   "id": "fdb3f26f-0d17-41dc-9ff7-e5e0b80639d1",
   "metadata": {},
   "source": [
    "5) What’s the strike rate of top batters?"
   ]
  },
  {
   "cell_type": "code",
   "execution_count": 49,
   "id": "31963694-e726-4a53-bc1d-0cad7d432df7",
   "metadata": {},
   "outputs": [
    {
     "name": "stdout",
     "output_type": "stream",
     "text": [
      "   1) V Kohli's strike rate 128.51\n",
      "   2) S Dhawan's strike rate 123.45\n",
      "   3) RG Sharma's strike rate 127.92\n",
      "   4) DA Warner's strike rate 135.43\n",
      "   5) SK Raina's strike rate 132.54\n"
     ]
    },
    {
     "data": {
      "text/plain": [
       "<Axes: xlabel='Batsman', ylabel='Strike Rate'>"
      ]
     },
     "execution_count": 49,
     "metadata": {},
     "output_type": "execute_result"
    },
    {
     "data": {
      "image/png": "[encoded data removed]",
      "text/plain": [
       "<Figure size 1200x500 with 2 Axes>"
      ]
     },
     "metadata": {},
     "output_type": "display_data"
    }
   ],
   "source": [
    "import numpy as np\n",
    "sorted_batsman_list = list(sorted_batsman_dict)\n",
    "sorted_batsman_list[0:5]\n",
    "for batsman,stats in sorted_batsman_dict.items():\n",
    "    total_balls=len(data[data['batter']==batsman]['ball'])\n",
    "    total_runs=sorted_batsman_dict[batsman][0]\n",
    "    strike_rate = (total_runs/total_balls)*100\n",
    "    formatted_strike_rate = round(strike_rate,2)\n",
    "    stats.append(formatted_strike_rate)\n",
    "sorted_batsman_list = list(sorted_batsman_dict)\n",
    "sorted_batsman_list[0:5]\n",
    "sorted_batsman_list = list(sorted_batsman_dict)\n",
    "z=[]\n",
    "for index,x in enumerate(sorted_batsman_list[0:5]):\n",
    "    z.append(f'{index+1}) {x}\\'s strike rate {sorted_batsman_dict[x][2]}')\n",
    "print('The strike rate of top batters:')\n",
    "for a in z:\n",
    "    print(f'   {a}')\n",
    "a = list(sorted_batsman_dict.items())\n",
    "new=[]\n",
    "for i in a :\n",
    "    x=(i[0], i[1][0] , i[1][1],i[1][2])\n",
    "    new.append(x)\n",
    "df = pd.DataFrame(new[0:5],columns=['Batsman','Runs','Innings','Strike Rate'])\n",
    "df\n",
    "# xpos = np.arange(len(df['Batsman']))\n",
    "# plt.bar(xpos-0.2,df['Runs'],label='Runs',width=0.4)\n",
    "# plt.bar(xpos+0.2,df['Strike Rate'],label='Strike Rate',width=0.4)\n",
    "# plt.xticks(xpos,df['Batsman'])\n",
    "# plt.legend(shadow=True)\n",
    "# plt.tight_layout()\n",
    "# plt.show()\n",
    "plt.figure(figsize=(12, 5))\n",
    "plt.subplot(1,2,1)\n",
    "sns.barplot(df,x='Batsman',y='Runs')\n",
    "plt.subplot(1,2,2)\n",
    "sns.barplot(df,x='Batsman',y='Strike Rate')"
   ]
  },
  {
   "cell_type": "markdown",
   "id": "cfde1d76-5e97-46e0-9ab9-673bfc7b4e00",
   "metadata": {},
   "source": [
    "6) Which bowlers have the best economy rates?"
   ]
  },
  {
   "cell_type": "code",
   "execution_count": 48,
   "id": "0f926653-905a-4da6-9cf8-98cfb0b96dbf",
   "metadata": {},
   "outputs": [
    {
     "data": {
      "text/plain": [
       "<Axes: xlabel='Bowler', ylabel='Economy'>"
      ]
     },
     "execution_count": 48,
     "metadata": {},
     "output_type": "execute_result"
    },
    {
     "data": {
      "image/png": "[encoded data removed]",
      "text/plain": [
       "<Figure size 640x480 with 1 Axes>"
      ]
     },
     "metadata": {},
     "output_type": "display_data"
    }
   ],
   "source": [
    "\n",
    "bowlers_list=data['bowler'].unique().tolist()\n",
    "data['extras_type'].unique()\n",
    "a=len(data[(data['bowler']=='YS Chahal')& (~data['extras_type'].isin(['wides','noballs']))]['ball'])\n",
    "bowler_dict={}\n",
    "for bowler in bowlers_list :\n",
    "    stats=[]\n",
    "    total_balls=len(data[(data['bowler']==bowler)& (~data['extras_type'].isin(['wides','noballs']))]['ball'])\n",
    "    overs = total_balls // 6\n",
    "    balls_left = total_balls % 6\n",
    "    final = float(f\"{overs}.{balls_left}\")\n",
    "    total_runs = data[data['bowler']==bowler]['total_runs'].sum()\n",
    "    economy = total_runs / final\n",
    "    economy = round(economy,2)\n",
    "    stats.append(final)\n",
    "    stats.append(economy)\n",
    "    bowler_dict[bowler] = stats\n",
    "bowler_dict\n",
    "sorted_bowler_dict = dict(sorted(bowler_dict.items(),key = lambda x : x[1][1],reverse = False))\n",
    "sorted_bowler_dict\n",
    "for index,batsman in enumerate(sorted_bowlers_list[0:5]):\n",
    "    print(f'{index+1}) {batsman} has bowled {sorted_bowler_dict[batsman][0]} overs with economy of {sorted_bowler_dict[batsman][1]}')\n",
    "a = list(sorted_bowler_dict.items())\n",
    "new=[]\n",
    "for i in a :\n",
    "    x=(i[0], i[1][0] , i[1][1],)\n",
    "    new.append(x)\n",
    "df = pd.DataFrame(new,columns=['Bowler','Overs','Economy'])\n",
    "sns.barplot(df[df['Bowler'].isin(sorted_bowlers_list[0:5])],x='Bowler',y='Economy')\n"
   ]
  },
  {
   "cell_type": "markdown",
   "id": "5380dddf-459c-49bb-928a-542f08533f59",
   "metadata": {},
   "source": [
    "7) What are the highest and lowest score?"
   ]
  },
  {
   "cell_type": "code",
   "execution_count": 33,
   "id": "5439e37c-1307-473e-9c7b-26c1753f8d67",
   "metadata": {},
   "outputs": [
    {
     "data": {
      "text/plain": [
       "287"
      ]
     },
     "execution_count": 33,
     "metadata": {},
     "output_type": "execute_result"
    }
   ],
   "source": [
    "highet_core=data.groupby(['match_id','inning'])['total_runs'].sum().max()\n",
    "Lowest_core=data.groupby(['match_id','inning'])['total_runs'].sum().min()"
   ]
  },
  {
   "cell_type": "markdown",
   "id": "2dbdf37d-c16c-4fc5-a951-3718881bb4c1",
   "metadata": {},
   "source": [
    "8) What is the highest individual score?"
   ]
  },
  {
   "cell_type": "code",
   "execution_count": 35,
   "id": "0908824b-328d-4cf9-950f-342ee7800f2e",
   "metadata": {},
   "outputs": [
    {
     "data": {
      "text/plain": [
       "175"
      ]
     },
     "execution_count": 35,
     "metadata": {},
     "output_type": "execute_result"
    }
   ],
   "source": [
    "highest_individual_score =data.groupby(['match_id','inning','batter'])['batsman_runs'].sum().max()"
   ]
  },
  {
   "cell_type": "markdown",
   "id": "ff38ee94-b7fb-416a-9642-d43509ffa2f0",
   "metadata": {},
   "source": [
    "9) What are highest runs conceded?"
   ]
  },
  {
   "cell_type": "code",
   "execution_count": 39,
   "id": "6b75aa99-af4a-42fa-9b30-213c99248e63",
   "metadata": {},
   "outputs": [
    {
     "data": {
      "text/plain": [
       "73"
      ]
     },
     "execution_count": 39,
     "metadata": {},
     "output_type": "execute_result"
    }
   ],
   "source": [
    "highest_runs_conceded=data.groupby(['match_id','inning','bowler'])['total_runs'].sum().max()"
   ]
  },
  {
   "cell_type": "markdown",
   "id": "002ab6d0-8fe7-4613-9fa7-97e0dd51a73a",
   "metadata": {},
   "source": [
    "10) What are the highest runs in powerplay?"
   ]
  },
  {
   "cell_type": "code",
   "execution_count": 7,
   "id": "85c612fe-3b19-4092-906f-cf5663e0c682",
   "metadata": {},
   "outputs": [
    {
     "data": {
      "text/plain": [
       "133"
      ]
     },
     "execution_count": 7,
     "metadata": {},
     "output_type": "execute_result"
    }
   ],
   "source": [
    "power_play = data[ data['over'] <= 6].groupby(['match_id', 'inning'])['total_runs'].sum().max()\n",
    "power_play"
   ]
  },
  {
   "cell_type": "code",
   "execution_count": null,
   "id": "980dbd2c-e1b4-430d-a678-562b4ece43ae",
   "metadata": {},
   "outputs": [],
   "source": []
  },
  {
   "cell_type": "code",
   "execution_count": null,
   "id": "b6f38f67-dde2-4b90-a1f1-9da0c29eaf70",
   "metadata": {},
   "outputs": [],
   "source": []
  },
  {
   "cell_type": "code",
   "execution_count": null,
   "id": "eafc85ef-713f-4823-8cbb-0ded6b63ae5e",
   "metadata": {},
   "outputs": [],
   "source": []
  }
 ],
 "metadata": {
  "kernelspec": {
   "display_name": "Python 3 (ipykernel)",
   "language": "python",
   "name": "python3"
  },
  "language_info": {
   "codemirror_mode": {
    "name": "ipython",
    "version": 3
   },
   "file_extension": ".py",
   "mimetype": "text/x-python",
   "name": "python",
   "nbconvert_exporter": "python",
   "pygments_lexer": "ipython3",
   "version": "3.12.7"
  }
 },
 "nbformat": 4,
 "nbformat_minor": 5
}
