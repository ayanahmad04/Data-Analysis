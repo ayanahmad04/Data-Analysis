{
 "cells": [
  {
   "cell_type": "code",
   "execution_count": 255,
   "id": "54cd0a3b-25a0-45ba-bba8-2719754f5826",
   "metadata": {},
   "outputs": [
    {
     "data": {
      "text/html": [
       "<div>\n",
       "<style scoped>\n",
       "    .dataframe tbody tr th:only-of-type {\n",
       "        vertical-align: middle;\n",
       "    }\n",
       "\n",
       "    .dataframe tbody tr th {\n",
       "        vertical-align: top;\n",
       "    }\n",
       "\n",
       "    .dataframe thead th {\n",
       "        text-align: right;\n",
       "    }\n",
       "</style>\n",
       "<table border=\"1\" class=\"dataframe\">\n",
       "  <thead>\n",
       "    <tr style=\"text-align: right;\">\n",
       "      <th></th>\n",
       "      <th>Poster_Link</th>\n",
       "      <th>Series_Title</th>\n",
       "      <th>Released_Year</th>\n",
       "      <th>Certificate</th>\n",
       "      <th>Runtime</th>\n",
       "      <th>Genre</th>\n",
       "      <th>IMDB_Rating</th>\n",
       "      <th>Overview</th>\n",
       "      <th>Meta_score</th>\n",
       "      <th>Director</th>\n",
       "      <th>Star1</th>\n",
       "      <th>Star2</th>\n",
       "      <th>Star3</th>\n",
       "      <th>Star4</th>\n",
       "      <th>No_of_Votes</th>\n",
       "      <th>Gross</th>\n",
       "    </tr>\n",
       "  </thead>\n",
       "  <tbody>\n",
       "    <tr>\n",
       "      <th>0</th>\n",
       "      <td>https://m.media-amazon.com/images/M/MV5BMDFkYT...</td>\n",
       "      <td>The Shawshank Redemption</td>\n",
       "      <td>1994</td>\n",
       "      <td>A</td>\n",
       "      <td>142 min</td>\n",
       "      <td>Drama</td>\n",
       "      <td>9.3</td>\n",
       "      <td>Two imprisoned men bond over a number of years...</td>\n",
       "      <td>80.0</td>\n",
       "      <td>Frank Darabont</td>\n",
       "      <td>Tim Robbins</td>\n",
       "      <td>Morgan Freeman</td>\n",
       "      <td>Bob Gunton</td>\n",
       "      <td>William Sadler</td>\n",
       "      <td>2343110</td>\n",
       "      <td>28,341,469</td>\n",
       "    </tr>\n",
       "    <tr>\n",
       "      <th>1</th>\n",
       "      <td>https://m.media-amazon.com/images/M/MV5BM2MyNj...</td>\n",
       "      <td>The Godfather</td>\n",
       "      <td>1972</td>\n",
       "      <td>A</td>\n",
       "      <td>175 min</td>\n",
       "      <td>Crime, Drama</td>\n",
       "      <td>9.2</td>\n",
       "      <td>An organized crime dynasty's aging patriarch t...</td>\n",
       "      <td>100.0</td>\n",
       "      <td>Francis Ford Coppola</td>\n",
       "      <td>Marlon Brando</td>\n",
       "      <td>Al Pacino</td>\n",
       "      <td>James Caan</td>\n",
       "      <td>Diane Keaton</td>\n",
       "      <td>1620367</td>\n",
       "      <td>134,966,411</td>\n",
       "    </tr>\n",
       "    <tr>\n",
       "      <th>2</th>\n",
       "      <td>https://m.media-amazon.com/images/M/MV5BMTMxNT...</td>\n",
       "      <td>The Dark Knight</td>\n",
       "      <td>2008</td>\n",
       "      <td>UA</td>\n",
       "      <td>152 min</td>\n",
       "      <td>Action, Crime, Drama</td>\n",
       "      <td>9.0</td>\n",
       "      <td>When the menace known as the Joker wreaks havo...</td>\n",
       "      <td>84.0</td>\n",
       "      <td>Christopher Nolan</td>\n",
       "      <td>Christian Bale</td>\n",
       "      <td>Heath Ledger</td>\n",
       "      <td>Aaron Eckhart</td>\n",
       "      <td>Michael Caine</td>\n",
       "      <td>2303232</td>\n",
       "      <td>534,858,444</td>\n",
       "    </tr>\n",
       "    <tr>\n",
       "      <th>3</th>\n",
       "      <td>https://m.media-amazon.com/images/M/MV5BMWMwMG...</td>\n",
       "      <td>The Godfather: Part II</td>\n",
       "      <td>1974</td>\n",
       "      <td>A</td>\n",
       "      <td>202 min</td>\n",
       "      <td>Crime, Drama</td>\n",
       "      <td>9.0</td>\n",
       "      <td>The early life and career of Vito Corleone in ...</td>\n",
       "      <td>90.0</td>\n",
       "      <td>Francis Ford Coppola</td>\n",
       "      <td>Al Pacino</td>\n",
       "      <td>Robert De Niro</td>\n",
       "      <td>Robert Duvall</td>\n",
       "      <td>Diane Keaton</td>\n",
       "      <td>1129952</td>\n",
       "      <td>57,300,000</td>\n",
       "    </tr>\n",
       "    <tr>\n",
       "      <th>4</th>\n",
       "      <td>https://m.media-amazon.com/images/M/MV5BMWU4N2...</td>\n",
       "      <td>12 Angry Men</td>\n",
       "      <td>1957</td>\n",
       "      <td>U</td>\n",
       "      <td>96 min</td>\n",
       "      <td>Crime, Drama</td>\n",
       "      <td>9.0</td>\n",
       "      <td>A jury holdout attempts to prevent a miscarria...</td>\n",
       "      <td>96.0</td>\n",
       "      <td>Sidney Lumet</td>\n",
       "      <td>Henry Fonda</td>\n",
       "      <td>Lee J. Cobb</td>\n",
       "      <td>Martin Balsam</td>\n",
       "      <td>John Fiedler</td>\n",
       "      <td>689845</td>\n",
       "      <td>4,360,000</td>\n",
       "    </tr>\n",
       "    <tr>\n",
       "      <th>...</th>\n",
       "      <td>...</td>\n",
       "      <td>...</td>\n",
       "      <td>...</td>\n",
       "      <td>...</td>\n",
       "      <td>...</td>\n",
       "      <td>...</td>\n",
       "      <td>...</td>\n",
       "      <td>...</td>\n",
       "      <td>...</td>\n",
       "      <td>...</td>\n",
       "      <td>...</td>\n",
       "      <td>...</td>\n",
       "      <td>...</td>\n",
       "      <td>...</td>\n",
       "      <td>...</td>\n",
       "      <td>...</td>\n",
       "    </tr>\n",
       "    <tr>\n",
       "      <th>995</th>\n",
       "      <td>https://m.media-amazon.com/images/M/MV5BNGEwMT...</td>\n",
       "      <td>Breakfast at Tiffany's</td>\n",
       "      <td>1961</td>\n",
       "      <td>A</td>\n",
       "      <td>115 min</td>\n",
       "      <td>Comedy, Drama, Romance</td>\n",
       "      <td>7.6</td>\n",
       "      <td>A young New York socialite becomes interested ...</td>\n",
       "      <td>76.0</td>\n",
       "      <td>Blake Edwards</td>\n",
       "      <td>Audrey Hepburn</td>\n",
       "      <td>George Peppard</td>\n",
       "      <td>Patricia Neal</td>\n",
       "      <td>Buddy Ebsen</td>\n",
       "      <td>166544</td>\n",
       "      <td>NaN</td>\n",
       "    </tr>\n",
       "    <tr>\n",
       "      <th>996</th>\n",
       "      <td>https://m.media-amazon.com/images/M/MV5BODk3Yj...</td>\n",
       "      <td>Giant</td>\n",
       "      <td>1956</td>\n",
       "      <td>G</td>\n",
       "      <td>201 min</td>\n",
       "      <td>Drama, Western</td>\n",
       "      <td>7.6</td>\n",
       "      <td>Sprawling epic covering the life of a Texas ca...</td>\n",
       "      <td>84.0</td>\n",
       "      <td>George Stevens</td>\n",
       "      <td>Elizabeth Taylor</td>\n",
       "      <td>Rock Hudson</td>\n",
       "      <td>James Dean</td>\n",
       "      <td>Carroll Baker</td>\n",
       "      <td>34075</td>\n",
       "      <td>NaN</td>\n",
       "    </tr>\n",
       "    <tr>\n",
       "      <th>997</th>\n",
       "      <td>https://m.media-amazon.com/images/M/MV5BM2U3Yz...</td>\n",
       "      <td>From Here to Eternity</td>\n",
       "      <td>1953</td>\n",
       "      <td>Passed</td>\n",
       "      <td>118 min</td>\n",
       "      <td>Drama, Romance, War</td>\n",
       "      <td>7.6</td>\n",
       "      <td>In Hawaii in 1941, a private is cruelly punish...</td>\n",
       "      <td>85.0</td>\n",
       "      <td>Fred Zinnemann</td>\n",
       "      <td>Burt Lancaster</td>\n",
       "      <td>Montgomery Clift</td>\n",
       "      <td>Deborah Kerr</td>\n",
       "      <td>Donna Reed</td>\n",
       "      <td>43374</td>\n",
       "      <td>30,500,000</td>\n",
       "    </tr>\n",
       "    <tr>\n",
       "      <th>998</th>\n",
       "      <td>https://m.media-amazon.com/images/M/MV5BZTBmMj...</td>\n",
       "      <td>Lifeboat</td>\n",
       "      <td>1944</td>\n",
       "      <td>NaN</td>\n",
       "      <td>97 min</td>\n",
       "      <td>Drama, War</td>\n",
       "      <td>7.6</td>\n",
       "      <td>Several survivors of a torpedoed merchant ship...</td>\n",
       "      <td>78.0</td>\n",
       "      <td>Alfred Hitchcock</td>\n",
       "      <td>Tallulah Bankhead</td>\n",
       "      <td>John Hodiak</td>\n",
       "      <td>Walter Slezak</td>\n",
       "      <td>William Bendix</td>\n",
       "      <td>26471</td>\n",
       "      <td>NaN</td>\n",
       "    </tr>\n",
       "    <tr>\n",
       "      <th>999</th>\n",
       "      <td>https://m.media-amazon.com/images/M/MV5BMTY5OD...</td>\n",
       "      <td>The 39 Steps</td>\n",
       "      <td>1935</td>\n",
       "      <td>NaN</td>\n",
       "      <td>86 min</td>\n",
       "      <td>Crime, Mystery, Thriller</td>\n",
       "      <td>7.6</td>\n",
       "      <td>A man in London tries to help a counter-espion...</td>\n",
       "      <td>93.0</td>\n",
       "      <td>Alfred Hitchcock</td>\n",
       "      <td>Robert Donat</td>\n",
       "      <td>Madeleine Carroll</td>\n",
       "      <td>Lucie Mannheim</td>\n",
       "      <td>Godfrey Tearle</td>\n",
       "      <td>51853</td>\n",
       "      <td>NaN</td>\n",
       "    </tr>\n",
       "  </tbody>\n",
       "</table>\n",
       "<p>1000 rows × 16 columns</p>\n",
       "</div>"
      ],
      "text/plain": [
       "                                           Poster_Link  \\\n",
       "0    https://m.media-amazon.com/images/M/MV5BMDFkYT...   \n",
       "1    https://m.media-amazon.com/images/M/MV5BM2MyNj...   \n",
       "2    https://m.media-amazon.com/images/M/MV5BMTMxNT...   \n",
       "3    https://m.media-amazon.com/images/M/MV5BMWMwMG...   \n",
       "4    https://m.media-amazon.com/images/M/MV5BMWU4N2...   \n",
       "..                                                 ...   \n",
       "995  https://m.media-amazon.com/images/M/MV5BNGEwMT...   \n",
       "996  https://m.media-amazon.com/images/M/MV5BODk3Yj...   \n",
       "997  https://m.media-amazon.com/images/M/MV5BM2U3Yz...   \n",
       "998  https://m.media-amazon.com/images/M/MV5BZTBmMj...   \n",
       "999  https://m.media-amazon.com/images/M/MV5BMTY5OD...   \n",
       "\n",
       "                 Series_Title Released_Year Certificate  Runtime  \\\n",
       "0    The Shawshank Redemption          1994           A  142 min   \n",
       "1               The Godfather          1972           A  175 min   \n",
       "2             The Dark Knight          2008          UA  152 min   \n",
       "3      The Godfather: Part II          1974           A  202 min   \n",
       "4                12 Angry Men          1957           U   96 min   \n",
       "..                        ...           ...         ...      ...   \n",
       "995    Breakfast at Tiffany's          1961           A  115 min   \n",
       "996                     Giant          1956           G  201 min   \n",
       "997     From Here to Eternity          1953      Passed  118 min   \n",
       "998                  Lifeboat          1944         NaN   97 min   \n",
       "999              The 39 Steps          1935         NaN   86 min   \n",
       "\n",
       "                        Genre  IMDB_Rating  \\\n",
       "0                       Drama          9.3   \n",
       "1                Crime, Drama          9.2   \n",
       "2        Action, Crime, Drama          9.0   \n",
       "3                Crime, Drama          9.0   \n",
       "4                Crime, Drama          9.0   \n",
       "..                        ...          ...   \n",
       "995    Comedy, Drama, Romance          7.6   \n",
       "996            Drama, Western          7.6   \n",
       "997       Drama, Romance, War          7.6   \n",
       "998                Drama, War          7.6   \n",
       "999  Crime, Mystery, Thriller          7.6   \n",
       "\n",
       "                                              Overview  Meta_score  \\\n",
       "0    Two imprisoned men bond over a number of years...        80.0   \n",
       "1    An organized crime dynasty's aging patriarch t...       100.0   \n",
       "2    When the menace known as the Joker wreaks havo...        84.0   \n",
       "3    The early life and career of Vito Corleone in ...        90.0   \n",
       "4    A jury holdout attempts to prevent a miscarria...        96.0   \n",
       "..                                                 ...         ...   \n",
       "995  A young New York socialite becomes interested ...        76.0   \n",
       "996  Sprawling epic covering the life of a Texas ca...        84.0   \n",
       "997  In Hawaii in 1941, a private is cruelly punish...        85.0   \n",
       "998  Several survivors of a torpedoed merchant ship...        78.0   \n",
       "999  A man in London tries to help a counter-espion...        93.0   \n",
       "\n",
       "                 Director              Star1              Star2  \\\n",
       "0          Frank Darabont        Tim Robbins     Morgan Freeman   \n",
       "1    Francis Ford Coppola      Marlon Brando          Al Pacino   \n",
       "2       Christopher Nolan     Christian Bale       Heath Ledger   \n",
       "3    Francis Ford Coppola          Al Pacino     Robert De Niro   \n",
       "4            Sidney Lumet        Henry Fonda        Lee J. Cobb   \n",
       "..                    ...                ...                ...   \n",
       "995         Blake Edwards     Audrey Hepburn     George Peppard   \n",
       "996        George Stevens   Elizabeth Taylor        Rock Hudson   \n",
       "997        Fred Zinnemann     Burt Lancaster   Montgomery Clift   \n",
       "998      Alfred Hitchcock  Tallulah Bankhead        John Hodiak   \n",
       "999      Alfred Hitchcock       Robert Donat  Madeleine Carroll   \n",
       "\n",
       "              Star3           Star4  No_of_Votes        Gross  \n",
       "0        Bob Gunton  William Sadler      2343110   28,341,469  \n",
       "1        James Caan    Diane Keaton      1620367  134,966,411  \n",
       "2     Aaron Eckhart   Michael Caine      2303232  534,858,444  \n",
       "3     Robert Duvall    Diane Keaton      1129952   57,300,000  \n",
       "4     Martin Balsam    John Fiedler       689845    4,360,000  \n",
       "..              ...             ...          ...          ...  \n",
       "995   Patricia Neal     Buddy Ebsen       166544          NaN  \n",
       "996      James Dean   Carroll Baker        34075          NaN  \n",
       "997    Deborah Kerr      Donna Reed        43374   30,500,000  \n",
       "998   Walter Slezak  William Bendix        26471          NaN  \n",
       "999  Lucie Mannheim  Godfrey Tearle        51853          NaN  \n",
       "\n",
       "[1000 rows x 16 columns]"
      ]
     },
     "execution_count": 255,
     "metadata": {},
     "output_type": "execute_result"
    }
   ],
   "source": [
    "import pandas as pd \n",
    "data = pd.read_csv('imdb_top_1000.csv')\n",
    "data"
   ]
  },
  {
   "cell_type": "code",
   "execution_count": 256,
   "id": "35f94e32-8b7d-4fec-b0aa-39d7cd008088",
   "metadata": {},
   "outputs": [
    {
     "data": {
      "text/plain": [
       "Poster_Link        0\n",
       "Series_Title       0\n",
       "Released_Year      0\n",
       "Certificate      101\n",
       "Runtime            0\n",
       "Genre              0\n",
       "IMDB_Rating        0\n",
       "Overview           0\n",
       "Meta_score       157\n",
       "Director           0\n",
       "Star1              0\n",
       "Star2              0\n",
       "Star3              0\n",
       "Star4              0\n",
       "No_of_Votes        0\n",
       "Gross            169\n",
       "dtype: int64"
      ]
     },
     "execution_count": 256,
     "metadata": {},
     "output_type": "execute_result"
    }
   ],
   "source": [
    "data.isna().sum()"
   ]
  },
  {
   "cell_type": "code",
   "execution_count": 257,
   "id": "78b74161-8720-469b-8876-2dd7d847082f",
   "metadata": {},
   "outputs": [
    {
     "data": {
      "text/plain": [
       "Gross\n",
       "4360000.0      9\n",
       "336705.0       8\n",
       "8000000.0      6\n",
       "10000000.0     6\n",
       "52709.0        5\n",
       "              ..\n",
       "305413918.0    1\n",
       "66257002.0     1\n",
       "1480006.0      1\n",
       "22455976.0     1\n",
       "1059830.0      1\n",
       "Name: count, Length: 823, dtype: int64"
      ]
     },
     "execution_count": 257,
     "metadata": {},
     "output_type": "execute_result"
    }
   ],
   "source": [
    "import numpy as np\n",
    "data['Gross'] = data['Gross'].str.replace(',', '', regex=False)\n",
    "data['Gross'] = data['Gross'].fillna('0')\n",
    "data['Gross'] = data['Gross'].astype(int)\n",
    "a=data['Gross'].ffill().bfill()\n",
    "data['Gross']=data['Gross'].replace(0,np.nan)\n",
    "data['Gross']=data['Gross'].ffill().bfill()\n",
    "data['Gross'].value_counts()"
   ]
  },
  {
   "cell_type": "code",
   "execution_count": 258,
   "id": "223715f9-3326-4461-8ee9-d6222c8e8398",
   "metadata": {},
   "outputs": [],
   "source": [
    "# data.columns\n",
    "data['Meta_score'].mean()\n",
    "data['Meta_score'].value_counts()\n",
    "# data['Meta_score'].unique()\n",
    "data['Meta_score']=data['Meta_score'].ffill().bfill()\n",
    "# data['Meta_score'].plot.box()"
   ]
  },
  {
   "cell_type": "code",
   "execution_count": 259,
   "id": "34c76cff-e85e-4209-883e-c0c9059b4a2f",
   "metadata": {},
   "outputs": [],
   "source": [
    "\n",
    "data['Certificate'] = data['Certificate'].fillna(data['Certificate'].mode()[0])\n"
   ]
  },
  {
   "cell_type": "code",
   "execution_count": 268,
   "id": "8f07364b-f513-492d-8242-0850ce794bff",
   "metadata": {},
   "outputs": [
    {
     "data": {
      "text/plain": [
       "Poster_Link       object\n",
       "Series_Title      object\n",
       "Released_Year      int32\n",
       "Certificate       object\n",
       "Runtime           object\n",
       "Genre             object\n",
       "IMDB_Rating      float64\n",
       "Overview          object\n",
       "Meta_score       float64\n",
       "Director          object\n",
       "Star1             object\n",
       "Star2             object\n",
       "Star3             object\n",
       "Star4             object\n",
       "No_of_Votes        int64\n",
       "Gross            float64\n",
       "dtype: object"
      ]
     },
     "execution_count": 268,
     "metadata": {},
     "output_type": "execute_result"
    }
   ],
   "source": [
    "data.dtypes\n",
    "# data['Released_Year']=data['Released_Year'].astype(int)\n",
    "# data['Runtime']"
   ]
  },
  {
   "cell_type": "markdown",
   "id": "95c8479c-6bf4-4719-a786-e2f56d905137",
   "metadata": {},
   "source": [
    "1) Which directors appear most often in the top 1000?"
   ]
  },
  {
   "cell_type": "code",
   "execution_count": 269,
   "id": "1ff0929e-b986-4675-9a5c-28340f6127e7",
   "metadata": {},
   "outputs": [
    {
     "data": {
      "text/plain": [
       "<Axes: xlabel='Director'>"
      ]
     },
     "execution_count": 269,
     "metadata": {},
     "output_type": "execute_result"
    },
    {
     "data": {
      "image/png": "[encoded data removed]",
      "text/plain": [
       "<Figure size 640x480 with 1 Axes>"
      ]
     },
     "metadata": {},
     "output_type": "display_data"
    }
   ],
   "source": [
    "data.columns\n",
    "data['Director']\n",
    "data['Director'].unique()\n",
    "data['Director'].value_counts()[0:5].plot.bar()\n"
   ]
  },
  {
   "cell_type": "markdown",
   "id": "520be22c-dc72-4982-9345-df16ffad1d94",
   "metadata": {},
   "source": [
    "2) Which actors appear most frequently across top 1000?"
   ]
  },
  {
   "cell_type": "code",
   "execution_count": 270,
   "id": "0e336dc7-be7d-48cd-b950-e05a230d063e",
   "metadata": {},
   "outputs": [
    {
     "data": {
      "text/plain": [
       "<Axes: xlabel='Star1'>"
      ]
     },
     "execution_count": 270,
     "metadata": {},
     "output_type": "execute_result"
    },
    {
     "data": {
      "image/png": "[encoded data removed]",
      "text/plain": [
       "<Figure size 640x480 with 1 Axes>"
      ]
     },
     "metadata": {},
     "output_type": "display_data"
    }
   ],
   "source": [
    "data.columns\n",
    "data['Star1']\n",
    "data['Star1'].unique()\n",
    "data['Star1'].value_counts()[0:5].plot.bar()\n",
    "\n",
    "\n"
   ]
  },
  {
   "cell_type": "markdown",
   "id": "3d362697-bee1-4631-a44c-2a24abbd26b1",
   "metadata": {},
   "source": [
    "\n",
    "3) How does IMDb rating correlate with number of votes or gross revenue?"
   ]
  },
  {
   "cell_type": "code",
   "execution_count": 271,
   "id": "d40eacf2-c054-4608-a051-86da3714f243",
   "metadata": {
    "scrolled": true
   },
   "outputs": [
    {
     "name": "stdout",
     "output_type": "stream",
     "text": [
      "The relation between IMDb rating and gross revenue is Extremely Weak(negligible).\n",
      "In numbers 0.09\n",
      "The relation between IMDb rating and No.of votes is Moderate Positive.\n",
      "In numbers 0.49\n"
     ]
    },
    {
     "data": {
      "image/png": "[encoded data removed]",
      "text/plain": [
       "<Figure size 1300x500 with 2 Axes>"
      ]
     },
     "metadata": {},
     "output_type": "display_data"
    }
   ],
   "source": [
    "import matplotlib.pyplot as plt\n",
    "data.columns\n",
    "plt.figure(figsize=(13,5))\n",
    "plt.subplot(1,2,1)\n",
    "plt.scatter(data['IMDB_Rating'],data['Gross'])\n",
    "plt.title('iMDB rating vs Gross Revenue')\n",
    "plt.xlabel('Rating')\n",
    "plt.ylabel('Gross')\n",
    "corr=data['IMDB_Rating'].corr(data['Gross'])\n",
    "print(f'The relation between IMDb rating and gross revenue is Extremely Weak(negligible).\\nIn numbers {round(corr,2)}')\n",
    "plt.subplot(1,2,2)\n",
    "plt.scatter(data['IMDB_Rating'],data['No_of_Votes'])\n",
    "plt.title('iMDB rating vs No.of votes')\n",
    "plt.xlabel('Rating')\n",
    "plt.ylabel('No. of Votes')\n",
    "corr2=data['IMDB_Rating'].corr(data['No_of_Votes'])\n",
    "corr2\n",
    "print(f'The relation between IMDb rating and No.of votes is Moderate Positive.\\nIn numbers {round(corr2,2)}')"
   ]
  },
  {
   "cell_type": "markdown",
   "id": "8f176ce5-7b78-40d8-8cf3-db5ad5b36b5e",
   "metadata": {},
   "source": [
    "4) Are newer movies rated better or worse than older ones?"
   ]
  },
  {
   "cell_type": "code",
   "execution_count": 320,
   "id": "48fbba8a-002e-4108-ad80-bec420ebae3c",
   "metadata": {},
   "outputs": [
    {
     "name": "stdout",
     "output_type": "stream",
     "text": [
      "There is a slight difference between their ratings the avg rating of movies before 1970 is 8.01 and the avg rating of movies after 1970 is 7.93 \n"
     ]
    }
   ],
   "source": [
    "import matplotlib.pyplot as plt\n",
    "# data.columns\n",
    "data['Released_Year'].unique()\n",
    "# data['IMDB_Rating']\n",
    "# data['Released_Year'].unique()\n",
    "# data[data['Released_Year']=='PG']\n",
    "# data.iloc[966,2] = '1995'\n",
    "data['Released_Year'].min()\n",
    "# data['Released_Year'].max()\n",
    "# plt.hist(data['Released_Year'],bins='auto',edgecolor='black')\n",
    "early = data[data['Released_Year'] < 1970]['IMDB_Rating'].mean()\n",
    "latest =  data[data['Released_Year'] > 1970 ]['IMDB_Rating'].mean()\n",
    "early\n",
    "latest\n",
    "print(f'There is a slight difference between their ratings the avg rating of movies before 1970 is {round(early,2)} and the avg rating of movies after 1970 is {round(latest,2)} ')"
   ]
  },
  {
   "cell_type": "code",
   "execution_count": null,
   "id": "c3d2cfde-9347-488d-a728-dfe9740e9ebb",
   "metadata": {},
   "outputs": [],
   "source": []
  }
 ],
 "metadata": {
  "kernelspec": {
   "display_name": "Python 3 (ipykernel)",
   "language": "python",
   "name": "python3"
  },
  "language_info": {
   "codemirror_mode": {
    "name": "ipython",
    "version": 3
   },
   "file_extension": ".py",
   "mimetype": "text/x-python",
   "name": "python",
   "nbconvert_exporter": "python",
   "pygments_lexer": "ipython3",
   "version": "3.12.7"
  }
 },
 "nbformat": 4,
 "nbformat_minor": 5
}
